{
  "cells": [
    {
      "cell_type": "code",
      "execution_count": 8,
      "metadata": {
        "colab": {
          "base_uri": "https://localhost:8080/"
        },
        "id": "f0BXoxH46mdY",
        "outputId": "00cd066e-aa01-493d-b75b-470ac81e757a"
      },
      "outputs": [
        {
          "name": "stdout",
          "output_type": "stream",
          "text": [
            "Welcome to my Python Quiz Project!\n",
            "Do you want to continue? (yes/no) yes\n",
            "Okay! Let's get started here are the rules.\n",
            "There are 10 questions and the answer is a single word.\n",
            "If you want to quit midway just type Q.\n",
            "Which is the part of the computer system that one can physically touch? hardware\n",
            "Correct!\n",
            "What are IC chips used in computers are usually made of? silicon\n",
            "Correct!\n",
            "What type of process creates a smaller file that is faster to transfer over the internet? regression\n",
            "Incorrect!\n",
            "What is processed by the computer into information? data\n",
            "Correct!\n",
            "What is an electronic device that process data, converting it into information? computer\n",
            "Correct!\n",
            "What is the most common type of storage devices? usb\n",
            "Incorrect!\n",
            "Where does a computer add and compare its data? Q\n",
            "Exiting quiz!\n",
            "Your score is: 4 out of total 10\n",
            "You got: 40.0% questions right.\n"
          ]
        }
      ],
      "source": [
        "import time\n",
        "import sys\n",
        "\n",
        "print(\"Welcome to my Python Quiz Project!\")\n",
        "time.sleep(1)\n",
        "\n",
        "score = 0\n",
        "questions = [\"Which is the part of the computer system that one can physically touch? \",\n",
        "             \"What are IC chips used in computers are usually made of? \",\n",
        "             \"What type of process creates a smaller file that is faster to transfer over the internet? \",\n",
        "             \"What is processed by the computer into information? \",\n",
        "             \"What is an electronic device that process data, converting it into information? \",\n",
        "             \"What is the most common type of storage devices? \",\n",
        "             \"Where does a computer add and compare its data? \",\n",
        "             \"If program can cope data errors, such program can be termed as ... \",\n",
        "             \"Storage mapping is done by ... \",\n",
        "             \"What was the first calculating device called? \"]\n",
        "answers = ['hardware','silicon','compression','data','computer','magnetic','cpu','robust','compiler','abacus']\n",
        "\n",
        "try:\n",
        "  answer = input(\"Do you want to continue? (yes/no) \")\n",
        "  if answer.lower() != 'yes':\n",
        "    assert False\n",
        "  time.sleep(1)\n",
        "\n",
        "  print(\"Okay! Let's get started here are the rules.\")\n",
        "  print(\"There are \" + str(len(questions)) +\" questions and the answer is a single word.\")\n",
        "  print(\"If you want to quit midway just type Q.\")\n",
        "  time.sleep(1)\n",
        "\n",
        "  try:\n",
        "    for question in range(len(questions)):\n",
        "      answer = input(questions[question])\n",
        "      time.sleep(1)\n",
        "      if answer.lower() == answers[question]:\n",
        "        print(\"Correct!\")\n",
        "        score += 1\n",
        "      elif answer == 'Q': assert False\n",
        "      else: print(\"Incorrect!\")\n",
        "\n",
        "  except:\n",
        "    print(\"Exiting quiz!\")\n",
        "  \n",
        "  time.sleep(1)\n",
        "  print(\"Your score is: \" + str(score) + \" out of total \" + str(len(questions)))\n",
        "  print(\"You got: \" + str((score/len(questions))*100) + \"% questions right.\")\n",
        "\n",
        "except:\n",
        "  print(\"Hope you try it out some other time!\")\n"
      ]
    }
  ],
  "metadata": {
    "colab": {
      "collapsed_sections": [],
      "provenance": []
    },
    "kernelspec": {
      "display_name": "Python 3",
      "name": "python3"
    },
    "language_info": {
      "name": "python"
    }
  },
  "nbformat": 4,
  "nbformat_minor": 0
}
