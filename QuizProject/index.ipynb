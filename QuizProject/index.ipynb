{
  "nbformat": 4,
  "nbformat_minor": 0,
  "metadata": {
    "colab": {
      "provenance": [],
      "collapsed_sections": []
    },
    "kernelspec": {
      "name": "python3",
      "display_name": "Python 3"
    },
    "language_info": {
      "name": "python"
    }
  },
  "cells": [
    {
      "cell_type": "code",
      "execution_count": 10,
      "metadata": {
        "colab": {
          "base_uri": "https://localhost:8080/"
        },
        "id": "f0BXoxH46mdY",
        "outputId": "e1fb0118-25b0-4032-d38a-189cfc65eda5"
      },
      "outputs": [
        {
          "output_type": "stream",
          "name": "stdout",
          "text": [
            "Welcome to my Python Quiz Project\n",
            "What is the capital of India? mumbai\n",
            "Incorrect!\n",
            "Your score is: 0  out of total 1\n"
          ]
        }
      ],
      "source": [
        "import time\n",
        "\n",
        "print(\"Welcome to my Python Quiz Project\")\n",
        "\n",
        "score = 0\n",
        "time.sleep(1)\n",
        "\n",
        "uans = input(\"What is the capital of India? \")\n",
        "time.sleep(1)\n",
        "\n",
        "if uans.lower() == 'delhi':\n",
        "  print(\"Correct!\")\n",
        "  score += 1\n",
        "else: print(\"Incorrect!\")\n",
        "\n",
        "time.sleep(1)\n",
        "print(\"Your score is:\" , score , \" out of total 1\")"
      ]
    }
  ]
}