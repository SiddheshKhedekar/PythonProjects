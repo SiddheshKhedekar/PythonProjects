{
  "nbformat": 4,
  "nbformat_minor": 0,
  "metadata": {
    "colab": {
      "provenance": [],
      "collapsed_sections": []
    },
    "kernelspec": {
      "name": "python3",
      "display_name": "Python 3"
    },
    "language_info": {
      "name": "python"
    }
  },
  "cells": [
    {
      "cell_type": "code",
      "execution_count": 8,
      "metadata": {
        "colab": {
          "base_uri": "https://localhost:8080/"
        },
        "id": "Cc5oBH6aRVXC",
        "outputId": "adecc13f-b279-4061-f14e-93ace7cf7e3d"
      },
      "outputs": [
        {
          "output_type": "stream",
          "name": "stdout",
          "text": [
            "Welcome to my Choose your Own Adventure Game Project!\n",
            "Choose your class from the options given: \n",
            "1.Magician\n",
            "2.Warrior\n",
            "Make your choice: 1\n",
            "Choose your weapon: \n",
            "1.Sword\n",
            "2.Staff\n",
            "Make your choice: 2\n",
            "You find yourself on a crossroad alone which direction do you move next: \n",
            "1.Left\n",
            "2.Right\n",
            "Make your choice: 1\n",
            "You walk for a long time and encounter a house what do you do: \n",
            "1.Move ahead\n",
            "2.Enter house\n",
            "Make your choice: 2\n",
            "Your choice has doomed you. Better luck next time!\n"
          ]
        }
      ],
      "source": [
        "print(\"Welcome to my Choose your Own Adventure Game Project!\")\n",
        "\n",
        "adventures = {'Choose your class from the options given: ':['1.Magician','2.Warrior'],\n",
        "              'Choose your weapon: ':['1.Sword','2.Staff'],\n",
        "              'You find yourself on a crossroad alone which direction do you move next: ':['1.Left','2.Right'],\n",
        "              'You walk for a long time and encounter a house what do you do: ':['1.Move ahead','2.Enter house']}\n",
        "              # '1.Magician':[{:}]\n",
        "              # '2.Warrior':[{:}]\n",
        "\n",
        "for _, (adventure, options) in enumerate(adventures.items()):\n",
        "  print(adventure)\n",
        "  for option in options:\n",
        "    print(option)\n",
        "  choice = input('Make your choice: ')\n",
        "\n",
        "print('Your choice has doomed you. Better luck next time!')"
      ]
    }
  ]
}