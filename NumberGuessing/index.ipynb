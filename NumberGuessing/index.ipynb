{
  "nbformat": 4,
  "nbformat_minor": 0,
  "metadata": {
    "colab": {
      "provenance": [],
      "collapsed_sections": []
    },
    "kernelspec": {
      "name": "python3",
      "display_name": "Python 3"
    },
    "language_info": {
      "name": "python"
    }
  },
  "cells": [
    {
      "cell_type": "code",
      "execution_count": 1,
      "metadata": {
        "colab": {
          "base_uri": "https://localhost:8080/"
        },
        "id": "Nx8C9VjLOCuy",
        "outputId": "31eb58f6-7db4-49ba-ef96-0c6cf4d0a470"
      },
      "outputs": [
        {
          "output_type": "stream",
          "name": "stdout",
          "text": [
            "Welcome to my Number Guessing Project!\n",
            "Do you want to continue? (yes/no) yes\n",
            "Okay! Let's get started here are the rules.\n",
            "Number to be guessed is a positive integer greater than 0.\n",
            "Game will quit if you input a invalid answer.\n",
            "If you want to quit just type 0.\n",
            "You guessed the number in 0 tries.\n"
          ]
        }
      ],
      "source": [
        "import time\n",
        "import random\n",
        "\n",
        "print(\"Welcome to my Number Guessing Project!\")\n",
        "time.sleep(1)\n",
        "\n",
        "try:\n",
        "  answer = input(\"Do you want to continue? (yes/no) \")\n",
        "  if answer.lower() != 'yes':\n",
        "    assert False\n",
        "  time.sleep(1)\n",
        "\n",
        "  print(\"Okay! Let's get started here are the rules.\")\n",
        "  print(\"Number to be guessed is a positive integer greater than 0.\")\n",
        "  print(\"Game will quit if you input a invalid answer.\")\n",
        "  print(\"If you want to quit just type 0.\")\n",
        "  time.sleep(1)\n",
        "\n",
        "  guess_count = 0\n",
        "  print(\"You guessed the number in \" + str(guess_count) + \" tries.\")\n",
        "\n",
        "except:\n",
        "  print(\"Hope you try it out some other time!\")"
      ]
    }
  ]
}