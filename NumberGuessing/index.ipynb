{
  "nbformat": 4,
  "nbformat_minor": 0,
  "metadata": {
    "colab": {
      "provenance": [],
      "collapsed_sections": []
    },
    "kernelspec": {
      "name": "python3",
      "display_name": "Python 3"
    },
    "language_info": {
      "name": "python"
    }
  },
  "cells": [
    {
      "cell_type": "code",
      "execution_count": 9,
      "metadata": {
        "colab": {
          "base_uri": "https://localhost:8080/"
        },
        "id": "Nx8C9VjLOCuy",
        "outputId": "70d7e2bb-4bbd-48d1-e37d-823a91e0c5b3"
      },
      "outputs": [
        {
          "output_type": "stream",
          "name": "stdout",
          "text": [
            "Welcome to my Number Guessing Project!\n",
            "Do you want to continue? (yes/no) yes\n",
            "First enter upper limit of the range it should be positive integer number q\n",
            "Upper limit should be positive integer number 10\n",
            "Okay! Let's get started here are the rules.\n",
            "Number to be guessed is a positive integer greater than 0 and less than 10.\n",
            "Game will quit if you input a invalid answer.\n",
            "If you want to quit just type 0.\n",
            "You guessed the number in 0 tries.\n"
          ]
        }
      ],
      "source": [
        "import time\n",
        "import random\n",
        "\n",
        "print(\"Welcome to my Number Guessing Project!\")\n",
        "time.sleep(1)\n",
        "\n",
        "try:\n",
        "  answer = input(\"Do you want to continue? (yes/no) \")\n",
        "  if answer.lower() != 'yes':\n",
        "    assert False\n",
        "  time.sleep(1)\n",
        "\n",
        "  range_ceil = 0\n",
        "\n",
        "  range_ceil = input(\"First enter upper limit of the range it should be positive integer number \")\n",
        "  while not (range_ceil.isdigit()):\n",
        "    range_ceil = input(\"Upper limit should be positive integer number \")\n",
        "  range_ceil = int(range_ceil)\n",
        "  time.sleep(1)\n",
        "\n",
        "  print(\"Okay! Let's get started here are the rules.\")\n",
        "  print(\"Number to be guessed is a positive integer greater than 0 and less than \" + str(range_ceil) + '.')\n",
        "  print(\"Game will quit if you input a invalid answer.\")\n",
        "  print(\"If you want to quit just type 0.\")\n",
        "  time.sleep(1)\n",
        "\n",
        "  random_number = random.randint(0,range_ceil)\n",
        "\n",
        "  guess_count = 0\n",
        "  print(\"You guessed the number in \" + str(guess_count) + \" tries.\")\n",
        "\n",
        "except:\n",
        "  print(\"Hope you try it out some other time!\")"
      ]
    }
  ]
}